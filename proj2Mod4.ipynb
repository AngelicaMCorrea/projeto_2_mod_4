{
  "nbformat": 4,
  "nbformat_minor": 0,
  "metadata": {
    "colab": {
      "provenance": [],
      "authorship_tag": "ABX9TyM/w16JZcXZXntXGgqE1EH4",
      "include_colab_link": true
    },
    "kernelspec": {
      "name": "python3",
      "display_name": "Python 3"
    },
    "language_info": {
      "name": "python"
    }
  },
  "cells": [
    {
      "cell_type": "markdown",
      "metadata": {
        "id": "view-in-github",
        "colab_type": "text"
      },
      "source": [
        "<a href=\"https://colab.research.google.com/github/AngelicaMCorrea/projeto_2_mod_4/blob/main/proj2Mod4.ipynb\" target=\"_parent\"><img src=\"https://colab.research.google.com/assets/colab-badge.svg\" alt=\"Open In Colab\"/></a>"
      ]
    },
    {
      "cell_type": "code",
      "execution_count": null,
      "metadata": {
        "id": "60pFj8T87Gy4"
      },
      "outputs": [],
      "source": [
        "import pandas as pd\n",
        "import numpy as np\n",
        "from scipy.stats import pearsonr\n",
        "from scipy import stats"
      ]
    },
    {
      "cell_type": "code",
      "source": [
        "dadosFunc = np.array ([['solteiro','1°Grau',np.NaN,4.00,26,3,'interior'],\n",
        " ['casado','1°Grau',1.0,4.56,32,10,'capital'],\n",
        "  ['casado','1°Grau',2.0,5.25,36,5,'capital'],\n",
        "   ['solteiro','2°Grau',np.NaN,5.73,20,10,'outro'],\n",
        "    ['solteiro','1°Grau',np.NaN,6,40,7,'outro']])\n",
        "func = pd.DataFrame(dadosFunc,index =['1','2','3','4','5'],\n",
        "                  columns=['Est.Civil', 'Inst', 'Filhos', 'Salário', 'Anos', 'Meses', 'Região'])\n",
        "func.index.name='Funcionário'\n",
        "func\n"
      ],
      "metadata": {
        "colab": {
          "base_uri": "https://localhost:8080/",
          "height": 238
        },
        "id": "CeqkPJnF7Xtz",
        "outputId": "a82ba964-a154-4f1c-f0cd-bcd4646bf93a"
      },
      "execution_count": null,
      "outputs": [
        {
          "output_type": "execute_result",
          "data": {
            "text/plain": [
              "            Est.Civil    Inst Filhos Salário Anos Meses    Região\n",
              "Funcionário                                                      \n",
              "1            solteiro  1°Grau    nan     4.0   26     3  interior\n",
              "2              casado  1°Grau    1.0    4.56   32    10   capital\n",
              "3              casado  1°Grau    2.0    5.25   36     5   capital\n",
              "4            solteiro  2°Grau    nan    5.73   20    10     outro\n",
              "5            solteiro  1°Grau    nan       6   40     7     outro"
            ],
            "text/html": [
              "\n",
              "  <div id=\"df-ed244e69-5900-479b-b4e1-f5dd7dfcb793\">\n",
              "    <div class=\"colab-df-container\">\n",
              "      <div>\n",
              "<style scoped>\n",
              "    .dataframe tbody tr th:only-of-type {\n",
              "        vertical-align: middle;\n",
              "    }\n",
              "\n",
              "    .dataframe tbody tr th {\n",
              "        vertical-align: top;\n",
              "    }\n",
              "\n",
              "    .dataframe thead th {\n",
              "        text-align: right;\n",
              "    }\n",
              "</style>\n",
              "<table border=\"1\" class=\"dataframe\">\n",
              "  <thead>\n",
              "    <tr style=\"text-align: right;\">\n",
              "      <th></th>\n",
              "      <th>Est.Civil</th>\n",
              "      <th>Inst</th>\n",
              "      <th>Filhos</th>\n",
              "      <th>Salário</th>\n",
              "      <th>Anos</th>\n",
              "      <th>Meses</th>\n",
              "      <th>Região</th>\n",
              "    </tr>\n",
              "    <tr>\n",
              "      <th>Funcionário</th>\n",
              "      <th></th>\n",
              "      <th></th>\n",
              "      <th></th>\n",
              "      <th></th>\n",
              "      <th></th>\n",
              "      <th></th>\n",
              "      <th></th>\n",
              "    </tr>\n",
              "  </thead>\n",
              "  <tbody>\n",
              "    <tr>\n",
              "      <th>1</th>\n",
              "      <td>solteiro</td>\n",
              "      <td>1°Grau</td>\n",
              "      <td>nan</td>\n",
              "      <td>4.0</td>\n",
              "      <td>26</td>\n",
              "      <td>3</td>\n",
              "      <td>interior</td>\n",
              "    </tr>\n",
              "    <tr>\n",
              "      <th>2</th>\n",
              "      <td>casado</td>\n",
              "      <td>1°Grau</td>\n",
              "      <td>1.0</td>\n",
              "      <td>4.56</td>\n",
              "      <td>32</td>\n",
              "      <td>10</td>\n",
              "      <td>capital</td>\n",
              "    </tr>\n",
              "    <tr>\n",
              "      <th>3</th>\n",
              "      <td>casado</td>\n",
              "      <td>1°Grau</td>\n",
              "      <td>2.0</td>\n",
              "      <td>5.25</td>\n",
              "      <td>36</td>\n",
              "      <td>5</td>\n",
              "      <td>capital</td>\n",
              "    </tr>\n",
              "    <tr>\n",
              "      <th>4</th>\n",
              "      <td>solteiro</td>\n",
              "      <td>2°Grau</td>\n",
              "      <td>nan</td>\n",
              "      <td>5.73</td>\n",
              "      <td>20</td>\n",
              "      <td>10</td>\n",
              "      <td>outro</td>\n",
              "    </tr>\n",
              "    <tr>\n",
              "      <th>5</th>\n",
              "      <td>solteiro</td>\n",
              "      <td>1°Grau</td>\n",
              "      <td>nan</td>\n",
              "      <td>6</td>\n",
              "      <td>40</td>\n",
              "      <td>7</td>\n",
              "      <td>outro</td>\n",
              "    </tr>\n",
              "  </tbody>\n",
              "</table>\n",
              "</div>\n",
              "      <button class=\"colab-df-convert\" onclick=\"convertToInteractive('df-ed244e69-5900-479b-b4e1-f5dd7dfcb793')\"\n",
              "              title=\"Convert this dataframe to an interactive table.\"\n",
              "              style=\"display:none;\">\n",
              "        \n",
              "  <svg xmlns=\"http://www.w3.org/2000/svg\" height=\"24px\"viewBox=\"0 0 24 24\"\n",
              "       width=\"24px\">\n",
              "    <path d=\"M0 0h24v24H0V0z\" fill=\"none\"/>\n",
              "    <path d=\"M18.56 5.44l.94 2.06.94-2.06 2.06-.94-2.06-.94-.94-2.06-.94 2.06-2.06.94zm-11 1L8.5 8.5l.94-2.06 2.06-.94-2.06-.94L8.5 2.5l-.94 2.06-2.06.94zm10 10l.94 2.06.94-2.06 2.06-.94-2.06-.94-.94-2.06-.94 2.06-2.06.94z\"/><path d=\"M17.41 7.96l-1.37-1.37c-.4-.4-.92-.59-1.43-.59-.52 0-1.04.2-1.43.59L10.3 9.45l-7.72 7.72c-.78.78-.78 2.05 0 2.83L4 21.41c.39.39.9.59 1.41.59.51 0 1.02-.2 1.41-.59l7.78-7.78 2.81-2.81c.8-.78.8-2.07 0-2.86zM5.41 20L4 18.59l7.72-7.72 1.47 1.35L5.41 20z\"/>\n",
              "  </svg>\n",
              "      </button>\n",
              "      \n",
              "  <style>\n",
              "    .colab-df-container {\n",
              "      display:flex;\n",
              "      flex-wrap:wrap;\n",
              "      gap: 12px;\n",
              "    }\n",
              "\n",
              "    .colab-df-convert {\n",
              "      background-color: #E8F0FE;\n",
              "      border: none;\n",
              "      border-radius: 50%;\n",
              "      cursor: pointer;\n",
              "      display: none;\n",
              "      fill: #1967D2;\n",
              "      height: 32px;\n",
              "      padding: 0 0 0 0;\n",
              "      width: 32px;\n",
              "    }\n",
              "\n",
              "    .colab-df-convert:hover {\n",
              "      background-color: #E2EBFA;\n",
              "      box-shadow: 0px 1px 2px rgba(60, 64, 67, 0.3), 0px 1px 3px 1px rgba(60, 64, 67, 0.15);\n",
              "      fill: #174EA6;\n",
              "    }\n",
              "\n",
              "    [theme=dark] .colab-df-convert {\n",
              "      background-color: #3B4455;\n",
              "      fill: #D2E3FC;\n",
              "    }\n",
              "\n",
              "    [theme=dark] .colab-df-convert:hover {\n",
              "      background-color: #434B5C;\n",
              "      box-shadow: 0px 1px 3px 1px rgba(0, 0, 0, 0.15);\n",
              "      filter: drop-shadow(0px 1px 2px rgba(0, 0, 0, 0.3));\n",
              "      fill: #FFFFFF;\n",
              "    }\n",
              "  </style>\n",
              "\n",
              "      <script>\n",
              "        const buttonEl =\n",
              "          document.querySelector('#df-ed244e69-5900-479b-b4e1-f5dd7dfcb793 button.colab-df-convert');\n",
              "        buttonEl.style.display =\n",
              "          google.colab.kernel.accessAllowed ? 'block' : 'none';\n",
              "\n",
              "        async function convertToInteractive(key) {\n",
              "          const element = document.querySelector('#df-ed244e69-5900-479b-b4e1-f5dd7dfcb793');\n",
              "          const dataTable =\n",
              "            await google.colab.kernel.invokeFunction('convertToInteractive',\n",
              "                                                     [key], {});\n",
              "          if (!dataTable) return;\n",
              "\n",
              "          const docLinkHtml = 'Like what you see? Visit the ' +\n",
              "            '<a target=\"_blank\" href=https://colab.research.google.com/notebooks/data_table.ipynb>data table notebook</a>'\n",
              "            + ' to learn more about interactive tables.';\n",
              "          element.innerHTML = '';\n",
              "          dataTable['output_type'] = 'display_data';\n",
              "          await google.colab.output.renderOutput(dataTable, element);\n",
              "          const docLink = document.createElement('div');\n",
              "          docLink.innerHTML = docLinkHtml;\n",
              "          element.appendChild(docLink);\n",
              "        }\n",
              "      </script>\n",
              "    </div>\n",
              "  </div>\n",
              "  "
            ]
          },
          "metadata": {},
          "execution_count": 2
        }
      ]
    },
    {
      "cell_type": "markdown",
      "source": [
        "Retirando a coluna Meses"
      ],
      "metadata": {
        "id": "YRl3B67WDL5x"
      }
    },
    {
      "cell_type": "code",
      "source": [
        "func = func.drop('Meses', axis=1)\n",
        "func"
      ],
      "metadata": {
        "colab": {
          "base_uri": "https://localhost:8080/",
          "height": 238
        },
        "id": "hgjNQloFDPsh",
        "outputId": "2939c837-701e-4b80-cda2-988bc323e6d2"
      },
      "execution_count": null,
      "outputs": [
        {
          "output_type": "execute_result",
          "data": {
            "text/plain": [
              "            Est.Civil    Inst Filhos Salário Anos    Região\n",
              "Funcionário                                                \n",
              "1            solteiro  1°Grau    nan     4.0   26  interior\n",
              "2              casado  1°Grau    1.0    4.56   32   capital\n",
              "3              casado  1°Grau    2.0    5.25   36   capital\n",
              "4            solteiro  2°Grau    nan    5.73   20     outro\n",
              "5            solteiro  1°Grau    nan       6   40     outro"
            ],
            "text/html": [
              "\n",
              "  <div id=\"df-8c35507f-cedb-4cc9-b0a5-d477a765702d\">\n",
              "    <div class=\"colab-df-container\">\n",
              "      <div>\n",
              "<style scoped>\n",
              "    .dataframe tbody tr th:only-of-type {\n",
              "        vertical-align: middle;\n",
              "    }\n",
              "\n",
              "    .dataframe tbody tr th {\n",
              "        vertical-align: top;\n",
              "    }\n",
              "\n",
              "    .dataframe thead th {\n",
              "        text-align: right;\n",
              "    }\n",
              "</style>\n",
              "<table border=\"1\" class=\"dataframe\">\n",
              "  <thead>\n",
              "    <tr style=\"text-align: right;\">\n",
              "      <th></th>\n",
              "      <th>Est.Civil</th>\n",
              "      <th>Inst</th>\n",
              "      <th>Filhos</th>\n",
              "      <th>Salário</th>\n",
              "      <th>Anos</th>\n",
              "      <th>Região</th>\n",
              "    </tr>\n",
              "    <tr>\n",
              "      <th>Funcionário</th>\n",
              "      <th></th>\n",
              "      <th></th>\n",
              "      <th></th>\n",
              "      <th></th>\n",
              "      <th></th>\n",
              "      <th></th>\n",
              "    </tr>\n",
              "  </thead>\n",
              "  <tbody>\n",
              "    <tr>\n",
              "      <th>1</th>\n",
              "      <td>solteiro</td>\n",
              "      <td>1°Grau</td>\n",
              "      <td>nan</td>\n",
              "      <td>4.0</td>\n",
              "      <td>26</td>\n",
              "      <td>interior</td>\n",
              "    </tr>\n",
              "    <tr>\n",
              "      <th>2</th>\n",
              "      <td>casado</td>\n",
              "      <td>1°Grau</td>\n",
              "      <td>1.0</td>\n",
              "      <td>4.56</td>\n",
              "      <td>32</td>\n",
              "      <td>capital</td>\n",
              "    </tr>\n",
              "    <tr>\n",
              "      <th>3</th>\n",
              "      <td>casado</td>\n",
              "      <td>1°Grau</td>\n",
              "      <td>2.0</td>\n",
              "      <td>5.25</td>\n",
              "      <td>36</td>\n",
              "      <td>capital</td>\n",
              "    </tr>\n",
              "    <tr>\n",
              "      <th>4</th>\n",
              "      <td>solteiro</td>\n",
              "      <td>2°Grau</td>\n",
              "      <td>nan</td>\n",
              "      <td>5.73</td>\n",
              "      <td>20</td>\n",
              "      <td>outro</td>\n",
              "    </tr>\n",
              "    <tr>\n",
              "      <th>5</th>\n",
              "      <td>solteiro</td>\n",
              "      <td>1°Grau</td>\n",
              "      <td>nan</td>\n",
              "      <td>6</td>\n",
              "      <td>40</td>\n",
              "      <td>outro</td>\n",
              "    </tr>\n",
              "  </tbody>\n",
              "</table>\n",
              "</div>\n",
              "      <button class=\"colab-df-convert\" onclick=\"convertToInteractive('df-8c35507f-cedb-4cc9-b0a5-d477a765702d')\"\n",
              "              title=\"Convert this dataframe to an interactive table.\"\n",
              "              style=\"display:none;\">\n",
              "        \n",
              "  <svg xmlns=\"http://www.w3.org/2000/svg\" height=\"24px\"viewBox=\"0 0 24 24\"\n",
              "       width=\"24px\">\n",
              "    <path d=\"M0 0h24v24H0V0z\" fill=\"none\"/>\n",
              "    <path d=\"M18.56 5.44l.94 2.06.94-2.06 2.06-.94-2.06-.94-.94-2.06-.94 2.06-2.06.94zm-11 1L8.5 8.5l.94-2.06 2.06-.94-2.06-.94L8.5 2.5l-.94 2.06-2.06.94zm10 10l.94 2.06.94-2.06 2.06-.94-2.06-.94-.94-2.06-.94 2.06-2.06.94z\"/><path d=\"M17.41 7.96l-1.37-1.37c-.4-.4-.92-.59-1.43-.59-.52 0-1.04.2-1.43.59L10.3 9.45l-7.72 7.72c-.78.78-.78 2.05 0 2.83L4 21.41c.39.39.9.59 1.41.59.51 0 1.02-.2 1.41-.59l7.78-7.78 2.81-2.81c.8-.78.8-2.07 0-2.86zM5.41 20L4 18.59l7.72-7.72 1.47 1.35L5.41 20z\"/>\n",
              "  </svg>\n",
              "      </button>\n",
              "      \n",
              "  <style>\n",
              "    .colab-df-container {\n",
              "      display:flex;\n",
              "      flex-wrap:wrap;\n",
              "      gap: 12px;\n",
              "    }\n",
              "\n",
              "    .colab-df-convert {\n",
              "      background-color: #E8F0FE;\n",
              "      border: none;\n",
              "      border-radius: 50%;\n",
              "      cursor: pointer;\n",
              "      display: none;\n",
              "      fill: #1967D2;\n",
              "      height: 32px;\n",
              "      padding: 0 0 0 0;\n",
              "      width: 32px;\n",
              "    }\n",
              "\n",
              "    .colab-df-convert:hover {\n",
              "      background-color: #E2EBFA;\n",
              "      box-shadow: 0px 1px 2px rgba(60, 64, 67, 0.3), 0px 1px 3px 1px rgba(60, 64, 67, 0.15);\n",
              "      fill: #174EA6;\n",
              "    }\n",
              "\n",
              "    [theme=dark] .colab-df-convert {\n",
              "      background-color: #3B4455;\n",
              "      fill: #D2E3FC;\n",
              "    }\n",
              "\n",
              "    [theme=dark] .colab-df-convert:hover {\n",
              "      background-color: #434B5C;\n",
              "      box-shadow: 0px 1px 3px 1px rgba(0, 0, 0, 0.15);\n",
              "      filter: drop-shadow(0px 1px 2px rgba(0, 0, 0, 0.3));\n",
              "      fill: #FFFFFF;\n",
              "    }\n",
              "  </style>\n",
              "\n",
              "      <script>\n",
              "        const buttonEl =\n",
              "          document.querySelector('#df-8c35507f-cedb-4cc9-b0a5-d477a765702d button.colab-df-convert');\n",
              "        buttonEl.style.display =\n",
              "          google.colab.kernel.accessAllowed ? 'block' : 'none';\n",
              "\n",
              "        async function convertToInteractive(key) {\n",
              "          const element = document.querySelector('#df-8c35507f-cedb-4cc9-b0a5-d477a765702d');\n",
              "          const dataTable =\n",
              "            await google.colab.kernel.invokeFunction('convertToInteractive',\n",
              "                                                     [key], {});\n",
              "          if (!dataTable) return;\n",
              "\n",
              "          const docLinkHtml = 'Like what you see? Visit the ' +\n",
              "            '<a target=\"_blank\" href=https://colab.research.google.com/notebooks/data_table.ipynb>data table notebook</a>'\n",
              "            + ' to learn more about interactive tables.';\n",
              "          element.innerHTML = '';\n",
              "          dataTable['output_type'] = 'display_data';\n",
              "          await google.colab.output.renderOutput(dataTable, element);\n",
              "          const docLink = document.createElement('div');\n",
              "          docLink.innerHTML = docLinkHtml;\n",
              "          element.appendChild(docLink);\n",
              "        }\n",
              "      </script>\n",
              "    </div>\n",
              "  </div>\n",
              "  "
            ]
          },
          "metadata": {},
          "execution_count": 3
        }
      ]
    },
    {
      "cell_type": "markdown",
      "source": [
        "Média da idade dos funcionários"
      ],
      "metadata": {
        "id": "FglFwOlVGJL2"
      }
    },
    {
      "cell_type": "code",
      "source": [
        "mediaIdades = func['Anos'].mean()\n",
        "print(\"A média da idade dos funcionários é de:\", mediaIdades)"
      ],
      "metadata": {
        "colab": {
          "base_uri": "https://localhost:8080/"
        },
        "id": "ePua6pG_GMcK",
        "outputId": "d791bce6-9920-4e3f-b8d8-24c917bb2e91"
      },
      "execution_count": null,
      "outputs": [
        {
          "output_type": "stream",
          "name": "stdout",
          "text": [
            "A média da idade dos funcionários é de: 526472408.0\n"
          ]
        }
      ]
    },
    {
      "cell_type": "code",
      "source": [
        "# Filtrando os funcionários que têm filhos e contando a frequência de cada número de filhos\n",
        "frequencia_filhos = func['Filhos'].value_counts()\n",
        "\n",
        "# Obtendo o número mais comum de filhos\n",
        "numero_mais_comum = frequencia_filhos.idxmax()\n",
        "\n",
        "print(\"O número mais comum de filhos entre os funcionários que têm filhos é:\", numero_mais_comum)"
      ],
      "metadata": {
        "colab": {
          "base_uri": "https://localhost:8080/"
        },
        "id": "rIXpSXap54lC",
        "outputId": "8a88e13b-886d-45e1-810b-25b30e06f07d"
      },
      "execution_count": null,
      "outputs": [
        {
          "output_type": "stream",
          "name": "stdout",
          "text": [
            "O número mais comum de filhos entre os funcionários que têm filhos é: nan\n"
          ]
        }
      ]
    },
    {
      "cell_type": "code",
      "source": [
        "# Convertendo a coluna 'Salário' para o tipo numérico\n",
        "func['Salário'] = pd.to_numeric(func['Salário'], errors='coerce')\n",
        "\n",
        "# Calculando a média dos salários\n",
        "media_Salarios = func['Salário'].mean()\n",
        "\n",
        "print(\"A média dos salários dos funcionários é de: \",media_Salarios)"
      ],
      "metadata": {
        "colab": {
          "base_uri": "https://localhost:8080/"
        },
        "id": "S6pP0hxo9Bfc",
        "outputId": "c4fb0554-3616-4006-ff67-2c6e00598ab4"
      },
      "execution_count": null,
      "outputs": [
        {
          "output_type": "stream",
          "name": "stdout",
          "text": [
            "A média dos salários dos funcionários é de:  5.108\n"
          ]
        }
      ]
    },
    {
      "cell_type": "code",
      "source": [
        "# Calculando a mediana dos salários\n",
        "mediana_Salarios = func['Salário'].median()\n",
        "\n",
        "print(\"A mediana dos salários dos funcionários é de: \",mediana_Salarios)"
      ],
      "metadata": {
        "colab": {
          "base_uri": "https://localhost:8080/"
        },
        "id": "WOQHUtir_R65",
        "outputId": "05b1a599-33df-41fd-8280-cfe069697fd1"
      },
      "execution_count": null,
      "outputs": [
        {
          "output_type": "stream",
          "name": "stdout",
          "text": [
            "A mediana dos salários dos funcionários é de:  5.25\n"
          ]
        }
      ]
    },
    {
      "cell_type": "code",
      "source": [
        "#Tipo de instrução existente\n",
        "tipos_instrucao = func['Inst'].unique()\n",
        "\n",
        "print(\"Os tipos de instrução existentes são:\", tipos_instrucao)"
      ],
      "metadata": {
        "colab": {
          "base_uri": "https://localhost:8080/"
        },
        "id": "69M-J55tKLY0",
        "outputId": "f4fd45f0-7423-4a76-db99-1c192205aa46"
      },
      "execution_count": null,
      "outputs": [
        {
          "output_type": "stream",
          "name": "stdout",
          "text": [
            "Os tipos de instrução existentes são: ['1°Grau' '2°Grau']\n"
          ]
        }
      ]
    },
    {
      "cell_type": "code",
      "source": [
        "# Convertendo as colunas Anos para o tipo numérico\n",
        "func['Anos'] = pd.to_numeric(func['Anos'], errors='coerce')\n",
        "\n",
        "# Filtrando as pessoas casadas\n",
        "pessoas_casadas = func[func['Est.Civil'] == 'casado']\n",
        "\n",
        "# Calculando a média de salário e idade das pessoas casadas\n",
        "media_salario_casados = pessoas_casadas['Salário'].mean()\n",
        "media_idade_casados = pessoas_casadas['Anos'].mean()\n",
        "\n",
        "print(\"A média de salário das pessoas casadas é:\", media_salario_casados)\n",
        "print(\"A média de idade das pessoas casadas é:\", media_idade_casados)"
      ],
      "metadata": {
        "colab": {
          "base_uri": "https://localhost:8080/"
        },
        "id": "FbpwZgp5MURH",
        "outputId": "81a4e484-53ab-4239-cfdb-b156032fdd0b"
      },
      "execution_count": null,
      "outputs": [
        {
          "output_type": "stream",
          "name": "stdout",
          "text": [
            "A média de salário das pessoas casadas é: 4.904999999999999\n",
            "A média de idade das pessoas casadas é: 34.0\n"
          ]
        }
      ]
    },
    {
      "cell_type": "code",
      "source": [
        "# Identificando o funcionário com o maior salário\n",
        "funcionario_maior_salario = func.loc[func['Salário'].idxmax()]\n",
        "\n",
        "print(\"O funcionário com maior salário possui os seguintes atributos:\")\n",
        "print(funcionario_maior_salario)"
      ],
      "metadata": {
        "colab": {
          "base_uri": "https://localhost:8080/"
        },
        "id": "ECatg1cXNgW2",
        "outputId": "1ae3af0b-213a-418b-af8a-e1714b33ffcc"
      },
      "execution_count": null,
      "outputs": [
        {
          "output_type": "stream",
          "name": "stdout",
          "text": [
            "O funcionário com maior salário possui os seguintes atributos:\n",
            "Est.Civil    solteiro\n",
            "Inst           1°Grau\n",
            "Filhos            nan\n",
            "Salário           6.0\n",
            "Anos               40\n",
            "Região          outro\n",
            "Name: 5, dtype: object\n"
          ]
        }
      ]
    },
    {
      "cell_type": "code",
      "source": [
        "# Identificando o funcionários com menor idade\n",
        "funcionario_menor_idade = func.loc[func['Anos'].idxmin()]\n",
        "\n",
        "print(\"O funcionário com menor idade possui os seguintes atributos:\")\n",
        "funcionario_menor_idade"
      ],
      "metadata": {
        "colab": {
          "base_uri": "https://localhost:8080/"
        },
        "id": "UPnj9PNfQy6C",
        "outputId": "cc96fabc-6142-4bce-b9f2-01f6466f3969"
      },
      "execution_count": null,
      "outputs": [
        {
          "output_type": "stream",
          "name": "stdout",
          "text": [
            "O funcionário com menor idade possui os seguintes atributos:\n"
          ]
        },
        {
          "output_type": "execute_result",
          "data": {
            "text/plain": [
              "Est.Civil    solteiro\n",
              "Inst           2°Grau\n",
              "Filhos            nan\n",
              "Salário          5.73\n",
              "Anos               20\n",
              "Região          outro\n",
              "Name: 4, dtype: object"
            ]
          },
          "metadata": {},
          "execution_count": 23
        }
      ]
    },
    {
      "cell_type": "code",
      "source": [
        "# Filtrando os funcionários que possuem no máximo 35 anos, são da capital e têm instrução de 2º grau\n",
        "func_filtrado = func[(func['Anos'] <= 35) & (func['Região'] == 'capital') & (func['Inst'] == '2°Grau')]\n",
        "\n",
        "print(\"Os funcionários que possuem no máximo 35 anos, são da capital e têm instrução de 2º grau são:\")\n",
        "print(func_filtrado)"
      ],
      "metadata": {
        "colab": {
          "base_uri": "https://localhost:8080/"
        },
        "id": "HRjzIZOsTU5m",
        "outputId": "518dd83a-5dd7-4edc-f09e-b66ea1d06660"
      },
      "execution_count": null,
      "outputs": [
        {
          "output_type": "stream",
          "name": "stdout",
          "text": [
            "Os funcionários que possuem no máximo 35 anos, são da capital e têm instrução de 2º grau são:\n",
            "Empty DataFrame\n",
            "Columns: [Est.Civil, Inst, Filhos, Salário, Anos, Região]\n",
            "Index: []\n"
          ]
        }
      ]
    },
    {
      "cell_type": "code",
      "source": [
        "# Mapeando os atributos qualitativos para atributos quantitativos\n",
        "atrib_Q = pd.get_dummies(func, drop_first=True)\n",
        "\n",
        "# Calculando a correlação entre todos os atributos\n",
        "correlacao = atrib_Q.corr()\n",
        "\n",
        "print(\"Matriz de correlação entre os atributos:\")\n",
        "print(correlacao)"
      ],
      "metadata": {
        "colab": {
          "base_uri": "https://localhost:8080/"
        },
        "id": "Z8UlbnayUy-X",
        "outputId": "c1c0cd9a-47e4-40bc-99c5-8bf943d219af"
      },
      "execution_count": null,
      "outputs": [
        {
          "output_type": "stream",
          "name": "stdout",
          "text": [
            "Matriz de correlação entre os atributos:\n",
            "                     Salário      Anos  Est.Civil_solteiro  Inst_2°Grau  \\\n",
            "Salário             1.000000  0.262162            0.224285     0.420833   \n",
            "Anos                0.262162  1.000000           -0.367452    -0.759434   \n",
            "Est.Civil_solteiro  0.224285 -0.367452            1.000000     0.408248   \n",
            "Inst_2°Grau         0.420833 -0.759434            0.408248     1.000000   \n",
            "Filhos_2.0          0.096074  0.365654           -0.612372    -0.250000   \n",
            "Filhos_nan          0.224285 -0.367452            1.000000     0.408248   \n",
            "Região_interior    -0.749651 -0.337526            0.408248    -0.250000   \n",
            "Região_outro        0.836373 -0.091863            0.666667     0.612372   \n",
            "\n",
            "                    Filhos_2.0  Filhos_nan  Região_interior  Região_outro  \n",
            "Salário               0.096074    0.224285        -0.749651      0.836373  \n",
            "Anos                  0.365654   -0.367452        -0.337526     -0.091863  \n",
            "Est.Civil_solteiro   -0.612372    1.000000         0.408248      0.666667  \n",
            "Inst_2°Grau          -0.250000    0.408248        -0.250000      0.612372  \n",
            "Filhos_2.0            1.000000   -0.612372        -0.250000     -0.408248  \n",
            "Filhos_nan           -0.612372    1.000000         0.408248      0.666667  \n",
            "Região_interior      -0.250000    0.408248         1.000000     -0.408248  \n",
            "Região_outro         -0.408248    0.666667        -0.408248      1.000000  \n"
          ]
        }
      ]
    },
    {
      "cell_type": "code",
      "source": [
        "# Qual é a proporção de funcionários solteiros em relação ao total de funcionários?\n",
        "\n",
        "# Contando o número de funcionários solteiros\n",
        "num_solteiros = func[func['Est.Civil'] == 'solteiro'].shape[0]\n",
        "\n",
        "# Calculando a proporção de funcionários solteiros em relação ao total\n",
        "proporcao_solteiros = num_solteiros / func.shape[0]\n",
        "\n",
        "# Contando o número de funcionários solteiros\n",
        "num_solteiros = func[func['Est.Civil'] == 'solteiro'].shape[0]\n",
        "\n",
        "# Calculando a proporção de funcionários solteiros em relação ao total\n",
        "proporcao_solteiros = num_solteiros / func.shape[0]\n",
        "\n",
        "print(\"A proporção de funcionários solteiros em relação ao total de funcionários é:\", proporcao_solteiros)"
      ],
      "metadata": {
        "colab": {
          "base_uri": "https://localhost:8080/"
        },
        "id": "8uWR3V0NW1OU",
        "outputId": "902a55ec-628d-4edf-e0d2-6aeab64ce27e"
      },
      "execution_count": null,
      "outputs": [
        {
          "output_type": "stream",
          "name": "stdout",
          "text": [
            "A proporção de funcionários solteiros em relação ao total de funcionários é: 0.6\n",
            "A proporção de funcionários solteiros em relação ao total de funcionários é: 0.6\n"
          ]
        }
      ]
    },
    {
      "cell_type": "code",
      "source": [
        "#Existe alguma diferença salarial significativa entre os funcionários\n",
        "#que moram na capital e os que moram em outras regiões?\n",
        "\n",
        "# Filtrando os funcionários que moram na capital e os que moram em outras regiões\n",
        "func_capital = func[func['Região'] == 'capital']\n",
        "func_outras_regioes = func[func['Região'] != 'capital']\n",
        "\n",
        "# Obtendo os salários dos funcionários que moram na capital e os que moram em outras regiões\n",
        "salarios_capital = func_capital['Salário'].astype(float)\n",
        "salarios_outras_regioes = func_outras_regioes['Salário'].astype(float)\n",
        "\n",
        "# Realizando o teste t de Student para comparar as médias dos salários\n",
        "_, p_value = stats.ttest_ind(salarios_capital, salarios_outras_regioes, equal_var=False)\n",
        "\n",
        "if p_value < 0.05:\n",
        "    print(\"Existe uma diferença salarial significativa entre os funcionários que moram na capital e os que moram em outras regiões.\")\n",
        "else:\n",
        "    print(\"Não há evidência de diferença salarial significativa entre os funcionários que moram na capital e os que moram em outras regiões.\")"
      ],
      "metadata": {
        "colab": {
          "base_uri": "https://localhost:8080/"
        },
        "id": "Uk0HX8HVaZmT",
        "outputId": "d86136e5-46a2-4a29-eac0-f0651949f256"
      },
      "execution_count": null,
      "outputs": [
        {
          "output_type": "stream",
          "name": "stdout",
          "text": [
            "Não há evidência de diferença salarial significativa entre os funcionários que moram na capital e os que moram em outras regiões.\n"
          ]
        }
      ]
    },
    {
      "cell_type": "code",
      "source": [
        "#Existe alguma correlação entre a quantidade de anos de estudo (Inst)\n",
        "#e o salário dos funcionários?\n",
        "\n",
        "# Calculando a correlação entre a quantidade de anos de estudo (Inst) e o salário\n",
        "correlation, p_value = pearsonr(func['Inst'], func['Salário'].astype(float))\n",
        "\n",
        "print(\"A correlação entre a quantidade de anos de estudo (Inst) e o salário dos funcionários é:\", correlation)\n",
        "print(\"O valor-p é:\", p_value)"
      ],
      "metadata": {
        "colab": {
          "base_uri": "https://localhost:8080/"
        },
        "id": "yS6M3LubZgkr",
        "outputId": "84f7db2a-dbc1-4e3d-a97b-01659b531d5b"
      },
      "execution_count": null,
      "outputs": [
        {
          "output_type": "stream",
          "name": "stdout",
          "text": [
            "A correlação entre a quantidade de anos de estudo (Inst) e o salário dos funcionários é: 0.42083319222796933\n",
            "O valor-p é: 0.48044352249532907\n"
          ]
        }
      ]
    }
  ]
}